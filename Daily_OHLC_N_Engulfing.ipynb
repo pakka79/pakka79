{
  "cells": [
    {
      "cell_type": "markdown",
      "metadata": {
        "id": "view-in-github",
        "colab_type": "text"
      },
      "source": [
        "<a href=\"https://colab.research.google.com/github/pakka79/pakka79/blob/main/Daily_OHLC_N_Engulfing.ipynb\" target=\"_parent\"><img src=\"https://colab.research.google.com/assets/colab-badge.svg\" alt=\"Open In Colab\"/></a>"
      ]
    },
    {
      "cell_type": "code",
      "execution_count": null,
      "metadata": {
        "id": "vkFLAY_Zj0_h"
      },
      "outputs": [],
      "source": [
        "#Libary===================================================#\n",
        "import FinanceDataReader as fdr\n",
        "from pykrx import stock\n",
        "import warnings\n",
        "import pandas as pd\n",
        "import numpy as np\n",
        "import talib as ta\n",
        "import datetime as dt\n",
        "import pytz\n",
        "warnings.filterwarnings(\"ignore\")\n",
        "#Libary===================================================#\n",
        "\n",
        "KoreaTime = pytz.timezone('Asia/Seoul')\n",
        "From_Today=1000\n",
        "today = dt.datetime.now()\n",
        "previouday=today-dt.timedelta(days=From_Today)\n",
        "Today=today.strftime(\"%Y%m%d\")\n",
        "Previuosday=previouday.strftime(\"%Y%m%d\")\n",
        "\n",
        "From_Today_Dart=1\n",
        "TodayDart=today.strftime(\"%Y-%m-%d\")\n",
        "previoudaydart=today-dt.timedelta(days=From_Today_Dart)\n",
        "PreviuosdayDart=previoudaydart.strftime(\"%Y-%m-%d\")\n",
        "\n",
        "#TICKER1===================================================#\n",
        "KRX=[\"KOSPI\",\"KOSDAQ\"]\n",
        "kospi=fdr.StockListing(\"KOSPI\")\n",
        "kosdaq=fdr.StockListing(\"KOSDAQ\")\n",
        "krx=pd.concat([kospi,kosdaq])\n",
        "krx[['Symbol', 'Market', 'Name', 'Sector', 'Industry']]\n",
        "krx.rename(columns={'Symbol':'KRX_TICKER_LIST'},inplace=True)\n",
        "krx=krx[['KRX_TICKER_LIST', 'Market', 'Name', 'Sector', 'Industry']]\n",
        "krx=krx.dropna(subset=['Sector'])\n",
        "#TICKER1===================================================#\n",
        "\n",
        "#===========================================================================================#\n",
        "for i in krx['KRX_TICKER_LIST']:\n",
        "    try:\n",
        "        df = stock.get_market_ohlcv(Previuosday, Today, i)\n",
        "\n",
        "        df['회사명'] = stock.get_market_ticker_name(i)\n",
        "        df['티커'] = i\n",
        "        df = df[[\"티커\", \"회사명\", \"시가\", \"고가\", \"저가\", \"종가\", \"거래량\"]]\n",
        "        df[\"PCT\"]=round(df[\"종가\"].pct_change(),4)\n",
        "\n",
        "        #Build VWAP\n",
        "        df['VWAP']=(df['저가'] + df['종가'] + df['고가']).div(3).values\n",
        "        df['TP_n_V']=df['VWAP'].values*df['거래량'].values\n",
        "        df['VWAP_5']=(df.TP_n_V.rolling(window=5).sum().values)/df['거래량'].rolling(window=5).sum().values\n",
        "        df['VWAP_10']=(df.TP_n_V.rolling(window=10).sum().values)/df['거래량'].rolling(window=10).sum().values\n",
        "        df['VWAP_20']=(df.TP_n_V.rolling(window=20).sum().values)/df['거래량'].rolling(window=20).sum().values\n",
        "        df['VWAP_60']=(df.TP_n_V.rolling(window=60).sum().values)/df['거래량'].rolling(window=60).sum().values\n",
        "\n",
        "        # Build Volume.mean\n",
        "        df['Vol_30'] = round(df.거래량.rolling(30).mean())\n",
        "        df['Vol_60'] = round(df.거래량.rolling(60).mean())\n",
        "\n",
        "        # Engulfing \n",
        "        df['Engulfing'] = ta.CDLENGULFING(df['시가'], df['고가'], df['저가'], df['종가'])\n",
        "        \n",
        "        # Shooting Star\n",
        "        df['SHOOTINGSTAR'] = ta.CDLSHOOTINGSTAR(df['시가'], df['고가'], df['저가'], df['종가'])\n",
        "\n",
        "        # Build ATR\n",
        "        df['ATR'] = round(ta.ATR(df['고가'], df['저가'], df['종가'], timeperiod=20))\n",
        "\n",
        "        # Build Bollinger Band\n",
        "        def Build_Bollinger_Band(df):\n",
        "            df['SMA_5'] = round(df.종가.rolling(5).mean())\n",
        "            df['SMA_20'] = round(df.종가.rolling(20).mean())\n",
        "            df['stddev'] = round(df.종가.rolling(5).std())\n",
        "            df['Upper'] = round(df.SMA_5 + 2.5 * df.stddev)\n",
        "            df['Lower'] = round(df.SMA_5 - 2.5 * df.stddev)\n",
        "            df['rsi'] = round(ta.RSI(df['종가'], timeperiod=14))\n",
        "        Build_Bollinger_Band(df)\n",
        "\n",
        "        df=df[['티커', '회사명', '시가', '고가', '저가', '종가','PCT','거래량', 'VWAP','VWAP_5', 'VWAP_10', 'VWAP_20', 'VWAP_60', 'Vol_30', 'Vol_60', 'Engulfing','SHOOTINGSTAR' ,'ATR','SMA_5', 'SMA_20', 'stddev', 'Upper', 'Lower', 'rsi']]\n",
        "\n",
        "        print(\"{}\".format(df.회사명[0]), df[-1:])\n",
        "        \n",
        "    except:\n",
        "        pass\n",
        "#===========================================================================================#"
      ]
    }
  ],
  "metadata": {
    "colab": {
      "provenance": [],
      "mount_file_id": "1e5PqpCk9K6uzrdEL4_Sd1Vhr5OZUpoy7",
      "authorship_tag": "ABX9TyPgawcsBXgL5FdGppS0cblH",
      "include_colab_link": true
    },
    "kernelspec": {
      "display_name": "Python 3",
      "name": "python3"
    },
    "language_info": {
      "name": "python"
    }
  },
  "nbformat": 4,
  "nbformat_minor": 0
}